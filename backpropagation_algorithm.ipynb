{
 "cells": [
  {
   "cell_type": "code",
   "execution_count": 1,
   "id": "737dfbfb",
   "metadata": {},
   "outputs": [],
   "source": [
    "import pandas as pd\n",
    "import numpy as np \n",
    "import matplotlib.pyplot as plt"
   ]
  },
  {
   "cell_type": "code",
   "execution_count": 2,
   "id": "c5c4f30f",
   "metadata": {},
   "outputs": [],
   "source": [
    "data = pd.read_csv(\"data.csv\")"
   ]
  },
  {
   "cell_type": "code",
   "execution_count": 3,
   "id": "43fd257a",
   "metadata": {},
   "outputs": [
    {
     "data": {
      "text/html": [
       "<div>\n",
       "<style scoped>\n",
       "    .dataframe tbody tr th:only-of-type {\n",
       "        vertical-align: middle;\n",
       "    }\n",
       "\n",
       "    .dataframe tbody tr th {\n",
       "        vertical-align: top;\n",
       "    }\n",
       "\n",
       "    .dataframe thead th {\n",
       "        text-align: right;\n",
       "    }\n",
       "</style>\n",
       "<table border=\"1\" class=\"dataframe\">\n",
       "  <thead>\n",
       "    <tr style=\"text-align: right;\">\n",
       "      <th></th>\n",
       "      <th>admit</th>\n",
       "      <th>gre</th>\n",
       "      <th>gpa</th>\n",
       "      <th>rank</th>\n",
       "    </tr>\n",
       "  </thead>\n",
       "  <tbody>\n",
       "    <tr>\n",
       "      <th>0</th>\n",
       "      <td>0</td>\n",
       "      <td>380</td>\n",
       "      <td>3.61</td>\n",
       "      <td>3</td>\n",
       "    </tr>\n",
       "    <tr>\n",
       "      <th>1</th>\n",
       "      <td>1</td>\n",
       "      <td>660</td>\n",
       "      <td>3.67</td>\n",
       "      <td>3</td>\n",
       "    </tr>\n",
       "    <tr>\n",
       "      <th>2</th>\n",
       "      <td>1</td>\n",
       "      <td>800</td>\n",
       "      <td>4.00</td>\n",
       "      <td>1</td>\n",
       "    </tr>\n",
       "    <tr>\n",
       "      <th>3</th>\n",
       "      <td>1</td>\n",
       "      <td>640</td>\n",
       "      <td>3.19</td>\n",
       "      <td>4</td>\n",
       "    </tr>\n",
       "    <tr>\n",
       "      <th>4</th>\n",
       "      <td>0</td>\n",
       "      <td>520</td>\n",
       "      <td>2.93</td>\n",
       "      <td>4</td>\n",
       "    </tr>\n",
       "    <tr>\n",
       "      <th>...</th>\n",
       "      <td>...</td>\n",
       "      <td>...</td>\n",
       "      <td>...</td>\n",
       "      <td>...</td>\n",
       "    </tr>\n",
       "    <tr>\n",
       "      <th>395</th>\n",
       "      <td>0</td>\n",
       "      <td>620</td>\n",
       "      <td>4.00</td>\n",
       "      <td>2</td>\n",
       "    </tr>\n",
       "    <tr>\n",
       "      <th>396</th>\n",
       "      <td>0</td>\n",
       "      <td>560</td>\n",
       "      <td>3.04</td>\n",
       "      <td>3</td>\n",
       "    </tr>\n",
       "    <tr>\n",
       "      <th>397</th>\n",
       "      <td>0</td>\n",
       "      <td>460</td>\n",
       "      <td>2.63</td>\n",
       "      <td>2</td>\n",
       "    </tr>\n",
       "    <tr>\n",
       "      <th>398</th>\n",
       "      <td>0</td>\n",
       "      <td>700</td>\n",
       "      <td>3.65</td>\n",
       "      <td>2</td>\n",
       "    </tr>\n",
       "    <tr>\n",
       "      <th>399</th>\n",
       "      <td>0</td>\n",
       "      <td>600</td>\n",
       "      <td>3.89</td>\n",
       "      <td>3</td>\n",
       "    </tr>\n",
       "  </tbody>\n",
       "</table>\n",
       "<p>400 rows × 4 columns</p>\n",
       "</div>"
      ],
      "text/plain": [
       "     admit  gre   gpa  rank\n",
       "0        0  380  3.61     3\n",
       "1        1  660  3.67     3\n",
       "2        1  800  4.00     1\n",
       "3        1  640  3.19     4\n",
       "4        0  520  2.93     4\n",
       "..     ...  ...   ...   ...\n",
       "395      0  620  4.00     2\n",
       "396      0  560  3.04     3\n",
       "397      0  460  2.63     2\n",
       "398      0  700  3.65     2\n",
       "399      0  600  3.89     3\n",
       "\n",
       "[400 rows x 4 columns]"
      ]
     },
     "execution_count": 3,
     "metadata": {},
     "output_type": "execute_result"
    }
   ],
   "source": [
    "data"
   ]
  },
  {
   "cell_type": "code",
   "execution_count": 4,
   "id": "6149f9bb",
   "metadata": {},
   "outputs": [],
   "source": [
    "for field in ['gre', 'gpa']:\n",
    "    mean, std = data[field].mean(), data[field].std()\n",
    "    data.loc[:,field] = (data[field]-mean)/std"
   ]
  },
  {
   "cell_type": "code",
   "execution_count": 5,
   "id": "023ee31a",
   "metadata": {},
   "outputs": [],
   "source": [
    "data = data.join(pd.get_dummies(data[\"rank\"]))"
   ]
  },
  {
   "cell_type": "markdown",
   "id": "cf12baa9",
   "metadata": {},
   "source": [
    "## Creating functions"
   ]
  },
  {
   "cell_type": "code",
   "execution_count": 6,
   "id": "7637c239",
   "metadata": {},
   "outputs": [],
   "source": [
    "def init_input_hidden_weights():\n",
    "    return np.random.uniform(1,2,size=(nb_inputs,nb_hidden))"
   ]
  },
  {
   "cell_type": "code",
   "execution_count": 7,
   "id": "73f26503",
   "metadata": {},
   "outputs": [],
   "source": [
    "def init_hidden_output_weights():\n",
    "    return np.random.uniform(1,2,size=(nb_hidden))"
   ]
  },
  {
   "cell_type": "code",
   "execution_count": 8,
   "id": "877c6f42",
   "metadata": {},
   "outputs": [],
   "source": [
    "def sigmoid(x):\n",
    "    return 1/(1+np.exp(-x))"
   ]
  },
  {
   "cell_type": "code",
   "execution_count": 9,
   "id": "5ed7e29d",
   "metadata": {},
   "outputs": [],
   "source": [
    "def output(w,x):\n",
    "    return sigmoid(np.dot(w,x))"
   ]
  },
  {
   "cell_type": "code",
   "execution_count": 10,
   "id": "fc15ca2a",
   "metadata": {},
   "outputs": [],
   "source": [
    "def output_prime(output):\n",
    "    return output*(1-output)"
   ]
  },
  {
   "cell_type": "code",
   "execution_count": 11,
   "id": "c8bf98a8",
   "metadata": {},
   "outputs": [],
   "source": [
    "def error(y,y_hat):\n",
    "    return -(y-y_hat)"
   ]
  },
  {
   "cell_type": "code",
   "execution_count": 12,
   "id": "028c97c5",
   "metadata": {},
   "outputs": [],
   "source": [
    "def entropy(y,y_hat):\n",
    "    return - (y*np.log(y_hat)+ (1-y)*np.log(1-y_hat))"
   ]
  },
  {
   "cell_type": "code",
   "execution_count": 13,
   "id": "b2cb3144",
   "metadata": {},
   "outputs": [],
   "source": [
    "learn_rate = .001/len(data)\n",
    "nb_epochs = 2000\n",
    "nb_inputs = 7\n",
    "nb_hidden = 2 \n",
    "\n",
    "input_hidden_weights = init_input_hidden_weights()\n",
    "hidden_output_weights = init_hidden_output_weights()\n",
    "X = np.array(data.drop(\"admit\",axis=1))\n",
    "labels = np.array(data[\"admit\"])\n"
   ]
  },
  {
   "cell_type": "code",
   "execution_count": 14,
   "id": "91b5d5d0",
   "metadata": {
    "scrolled": true
   },
   "outputs": [
    {
     "name": "stdout",
     "output_type": "stream",
     "text": [
      "Loss:2.009703635111922\n",
      "Loss:1.966661330466922\n",
      "Loss:1.9114665251579004\n",
      "Loss:1.842097203017218\n",
      "Loss:1.757827809036313\n",
      "Loss:1.6597579865024898\n",
      "Loss:1.550600733075267\n",
      "Loss:1.4352436626929141\n",
      "Loss:1.3195256771568933\n",
      "Loss:1.2087435175406427\n",
      "Loss:1.1071766404816024\n",
      "Loss:1.0167308311611167\n",
      "Loss:0.9383850314716179\n",
      "Loss:0.8731225453816829\n",
      "Loss:0.8210651715859945\n",
      "Loss:0.7816537290100604\n",
      "Loss:0.7537928017052073\n",
      "Loss:0.7353226323046741\n",
      "Loss:0.7233757495885655\n",
      "Loss:0.7154121150525866\n",
      "Finished training\n"
     ]
    }
   ],
   "source": [
    "for e in range(nb_epochs):\n",
    "    loss_arr = np.array([])\n",
    "    for x,l in zip(X,labels):\n",
    "        ## Forward propagation\n",
    "        h1 = output(input_hidden_weights[:,0],x)\n",
    "        h2 = output(input_hidden_weights[:,1],x)\n",
    "        h = output(hidden_output_weights,[h1,h2])\n",
    "        \n",
    "        ### Backward propagation\n",
    "        delta_h = error(l,h)*output_prime(h) \n",
    "        delta_h1 = delta_h*hidden_output_weights[0]*output_prime(h1)\n",
    "        delta_h2 = delta_h*hidden_output_weights[1]*output_prime(h2)        \n",
    "        loss_arr = np.append(loss_arr,entropy(l,h))\n",
    "        \n",
    "        \n",
    "        hidden_output_weights -= learn_rate*delta_h*np.array([h1,h2])\n",
    "        input_hidden_weights -= learn_rate*x[:,None]\n",
    "    if(e%100 == 0):\n",
    "        print(\"Loss:\"+str(np.average(loss_arr)))\n",
    "print(\"Finished training\")"
   ]
  }
 ],
 "metadata": {
  "kernelspec": {
   "display_name": "Python 3",
   "language": "python",
   "name": "python3"
  },
  "language_info": {
   "codemirror_mode": {
    "name": "ipython",
    "version": 3
   },
   "file_extension": ".py",
   "mimetype": "text/x-python",
   "name": "python",
   "nbconvert_exporter": "python",
   "pygments_lexer": "ipython3",
   "version": "3.9.4"
  }
 },
 "nbformat": 4,
 "nbformat_minor": 5
}
